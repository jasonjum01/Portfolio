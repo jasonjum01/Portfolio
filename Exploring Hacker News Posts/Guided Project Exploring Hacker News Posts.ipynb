{
 "cells": [
  {
   "cell_type": "markdown",
   "metadata": {
    "collapsed": true
   },
   "source": [
    "# Guided Project: Exploring Hacker News Posts"
   ]
  },
  {
   "attachments": {
    "hacker_news.jpg": {
     "image/jpeg": "[encoded data removed]"
    }
   },
   "cell_type": "markdown",
   "metadata": {},
   "source": [
    "![hacker_news.jpg](attachment:hacker_news.jpg)\n",
    "\n",
    "__Overview__\n",
    "\n",
    "Hacker News is a site started by the startup incubator Y Combinator, where user-submitted stories (known as \"posts\") receive votes and comments, similar to reddit. Hacker News is extremely popular in technology and startup circles, and posts that make it to the top of the Hacker News listings can get hundreds of thousands of visitors as a result.\n",
    "\n",
    "[Data Set](https://www.kaggle.com/datasets/hacker-news/hacker-news-posts)\n",
    "\n",
    "_We're specifically interested in posts with titles that begin with either Ask HN or Show HN. Users submit Ask HN posts to ask the Hacker News community a specific question._\n",
    "\n",
    "__Key points__\n",
    "\n",
    "Our key point in this project is to answer the question _\"Do posts created at a certain time recieve more comments on average?\"_"
   ]
  },
  {
   "cell_type": "markdown",
   "metadata": {},
   "source": [
    "## 1. Importing Data and Removng Headers from a List of Lists\n",
    "---"
   ]
  },
  {
   "cell_type": "markdown",
   "metadata": {},
   "source": [
    "Firstly, before we start our analysis we'll set up our work station and import our dataset then print out a couple of rows to see what our dataset has and do a quick analysis on what is provided for us."
   ]
  },
  {
   "cell_type": "code",
   "execution_count": 1,
   "metadata": {
    "scrolled": true
   },
   "outputs": [
    {
     "name": "stdout",
     "output_type": "stream",
     "text": [
      "[['12224879', 'Interactive Dynamic Video', 'http://www.interactivedynamicvideo.com/', '386', '52', 'ne0phyte', '8/4/2016 11:52'], ['10975351', 'How to Use Open Source and Shut the Fuck Up at the Same Time', 'http://hueniverse.com/2016/01/26/how-to-use-open-source-and-shut-the-fuck-up-at-the-same-time/', '39', '10', 'josep2', '1/26/2016 19:30'], ['11964716', \"Florida DJs May Face Felony for April Fools' Water Joke\", 'http://www.thewire.com/entertainment/2013/04/florida-djs-april-fools-water-joke/63798/', '2', '1', 'vezycash', '6/23/2016 22:20'], ['11919867', 'Technology ventures: From Idea to Enterprise', 'https://www.amazon.com/Technology-Ventures-Enterprise-Thomas-Byers/dp/0073523429', '3', '1', 'hswarna', '6/17/2016 0:01'], ['10301696', 'Note by Note: The Making of Steinway L1037 (2007)', 'http://www.nytimes.com/2007/11/07/movies/07stein.html?_r=0', '8', '2', 'walterbell', '9/30/2015 4:12']] \n",
      "\n",
      "['id', 'title', 'url', 'num_points', 'num_comments', 'author', 'created_at']\n"
     ]
    }
   ],
   "source": [
    "from csv import reader\n",
    "# Opening dataset\n",
    "\n",
    "open_file = open('hacker_news.csv')\n",
    "read_file = reader(open_file)\n",
    "hn = list(read_file)\n",
    "\n",
    "# Seperating header from dataset into seperate list\n",
    "headers = hn[0]\n",
    "hn = hn[1:]\n",
    "\n",
    "print(hn[:5], '\\n')\n",
    "print(headers)"
   ]
  },
  {
   "cell_type": "markdown",
   "metadata": {},
   "source": [
    "From the information that we gathered from so far we have the following columns\n",
    "\n",
    "**Descriptions of the columns**\n",
    "\n",
    "* __id__: the unique identifier from Hacker News for the post\n",
    "* __title__: the title of the post\n",
    "* __url__: the URL that the posts links to, if the post has a URL\n",
    "* __num_points__: the number of points the post acquired, calculated as the total number of upvotes minus the total number of downvotes\n",
    "* __num_comments__: the number of comments on the post\n",
    "* __author__: the username of the person who submitted the post\n",
    "* __created_at__: the date and time of the post's submission"
   ]
  },
  {
   "cell_type": "markdown",
   "metadata": {},
   "source": [
    "## 2. Extracting Ask HN and Show HN Posts\n",
    "---"
   ]
  },
  {
   "cell_type": "markdown",
   "metadata": {},
   "source": [
    "Now that we've removed the headers from hn, we're ready to filter our data. Since we're only concerned with post titles beginning with Ask HN or Show HN, we'll create new lists of lists containing just the data for those titles.\n",
    "\n",
    "To solve this problem we'll use a string method (startswith)"
   ]
  },
  {
   "cell_type": "code",
   "execution_count": 2,
   "metadata": {
    "scrolled": true
   },
   "outputs": [
    {
     "name": "stdout",
     "output_type": "stream",
     "text": [
      "Number of Asked Posts: 1744\n",
      "Number of Showed Posts: 1162\n",
      "Number of Other Posts: 17194\n"
     ]
    }
   ],
   "source": [
    "# Empty lists to be appeneded \n",
    "ask_posts = []\n",
    "show_posts = []\n",
    "other_posts = []\n",
    "\n",
    "for row in hn:\n",
    "    title = row[1]\n",
    "    if title.lower().startswith('ask hn'):\n",
    "        ask_posts.append(row)\n",
    "    elif title.lower().startswith('show hn'):\n",
    "        show_posts.append(row)\n",
    "    else:\n",
    "        other_posts.append(row)\n",
    "        \n",
    "print('Number of Asked Posts:', len(ask_posts))\n",
    "print('Number of Showed Posts:', len(show_posts))\n",
    "print('Number of Other Posts:', len(other_posts))\n",
    "\n"
   ]
  },
  {
   "cell_type": "markdown",
   "metadata": {},
   "source": [
    "From the extracted post, we can conclude so far that we have:\n",
    "* 1744 _asked posts_\n",
    "* 1162 _showed posts_\n",
    "* 17194 _other posts_"
   ]
  },
  {
   "cell_type": "markdown",
   "metadata": {},
   "source": [
    "## 3. Calculating the Average Number of Comments for Ask HN and Show HN Posts\n",
    "---"
   ]
  },
  {
   "cell_type": "markdown",
   "metadata": {},
   "source": [
    "In our previous section, we separated the \"ask posts\" and the \"show posts\" into two lists of lists named ask_posts and show_posts."
   ]
  },
  {
   "cell_type": "markdown",
   "metadata": {},
   "source": [
    "Below are the frist five rows in the ask_posts list of lists:"
   ]
  },
  {
   "cell_type": "code",
   "execution_count": 3,
   "metadata": {
    "scrolled": false
   },
   "outputs": [
    {
     "name": "stdout",
     "output_type": "stream",
     "text": [
      "[['12296411', 'Ask HN: How to improve my personal website?', '', '2', '6', 'ahmedbaracat', '8/16/2016 9:55'], ['10610020', 'Ask HN: Am I the only one outraged by Twitter shutting down share counts?', '', '28', '29', 'tkfx', '11/22/2015 13:43'], ['11610310', 'Ask HN: Aby recent changes to CSS that broke mobile?', '', '1', '1', 'polskibus', '5/2/2016 10:14'], ['12210105', 'Ask HN: Looking for Employee #3 How do I do it?', '', '1', '3', 'sph130', '8/2/2016 14:20'], ['10394168', 'Ask HN: Someone offered to buy my browser extension from me. What now?', '', '28', '17', 'roykolak', '10/15/2015 16:38']] \n",
      "\n"
     ]
    }
   ],
   "source": [
    "print(ask_posts[:5], '\\n')"
   ]
  },
  {
   "cell_type": "markdown",
   "metadata": {},
   "source": [
    "And here are the first five rows in the show_posts list of lists:"
   ]
  },
  {
   "cell_type": "code",
   "execution_count": 4,
   "metadata": {
    "scrolled": false
   },
   "outputs": [
    {
     "name": "stdout",
     "output_type": "stream",
     "text": [
      "[['10627194', 'Show HN: Wio Link  ESP8266 Based Web of Things Hardware Development Platform', 'https://iot.seeed.cc', '26', '22', 'kfihihc', '11/25/2015 14:03'], ['10646440', 'Show HN: Something pointless I made', 'http://dn.ht/picklecat/', '747', '102', 'dhotson', '11/29/2015 22:46'], ['11590768', 'Show HN: Shanhu.io, a programming playground powered by e8vm', 'https://shanhu.io', '1', '1', 'h8liu', '4/28/2016 18:05'], ['12178806', 'Show HN: Webscope  Easy way for web developers to communicate with Clients', 'http://webscopeapp.com', '3', '3', 'fastbrick', '7/28/2016 7:11'], ['10872799', 'Show HN: GeoScreenshot  Easily test Geo-IP based web pages', 'https://www.geoscreenshot.com/', '1', '9', 'kpsychwave', '1/9/2016 20:45']] \n",
      "\n"
     ]
    }
   ],
   "source": [
    "print(show_posts[:5], '\\n')"
   ]
  },
  {
   "cell_type": "markdown",
   "metadata": {},
   "source": [
    "Now that we're getting more familiar with what are data is looking like, let's determine if ask posts or show posts recieve more comment on average!"
   ]
  },
  {
   "cell_type": "markdown",
   "metadata": {},
   "source": [
    "To do this we'll need to:\n",
    "\n",
    "__Step 1:__ Find the total number of comments in ask posts, and assign it to a variable and iterate over the ask posts.\n",
    "\n",
    "__Step 2:__ Compute the average number of comments on ask posts, and assign it to a new variable\n",
    "\n",
    "__Step 3:__ Repeat the process with the show post list and then reveal our findings"
   ]
  },
  {
   "cell_type": "code",
   "execution_count": 5,
   "metadata": {
    "scrolled": false
   },
   "outputs": [
    {
     "name": "stdout",
     "output_type": "stream",
     "text": [
      "Average comments in \"ask hn\": 14.038417431192661\n"
     ]
    }
   ],
   "source": [
    "# Creating a placeholder for our total ask comments\n",
    "total_ask_comments = 0\n",
    "\n",
    "# Performing operation to find avg comments in ask comments\n",
    "for row in ask_posts:\n",
    "    count_comments = int(row[4])\n",
    "    total_ask_comments += count_comments\n",
    "    \n",
    "avg_ask_comments = total_ask_comments / len(ask_posts)\n",
    "\n",
    "print('Average comments in \"ask hn\":',avg_ask_comments)"
   ]
  },
  {
   "cell_type": "code",
   "execution_count": 6,
   "metadata": {
    "scrolled": true
   },
   "outputs": [
    {
     "name": "stdout",
     "output_type": "stream",
     "text": [
      "Average comments in \"show hn\": 10.31669535283993\n"
     ]
    }
   ],
   "source": [
    "# Creating a placeholder for our total show comments\n",
    "total_show_comments = 0\n",
    "\n",
    "# Performing operation to find avg comments in show comments\n",
    "for row in show_posts:\n",
    "    count_comments = int(row[4])\n",
    "    total_show_comments += count_comments\n",
    "    \n",
    "avg_show_comments = total_show_comments / len(show_posts)\n",
    "\n",
    "print('Average comments in \"show hn\":', avg_show_comments)"
   ]
  },
  {
   "cell_type": "markdown",
   "metadata": {},
   "source": [
    "From our findings we can see we get a higher average of comments from ask posts and based on intuition, I believe there is a strong correlation between comments and questions because these may not be comments but answers to the post, as it suggests \"ask\" posts. Rather than comments or their personal opinons on what is being showcased in the show posts."
   ]
  },
  {
   "cell_type": "markdown",
   "metadata": {},
   "source": [
    "## 4. Finding the Number of Ask Posts and Comments by Hour Created\n",
    "---"
   ]
  },
  {
   "cell_type": "markdown",
   "metadata": {},
   "source": [
    "On the previous sections, we've determined that, on average, ask posts receive more comments than show posts. Since ask posts are more likely to receive comments, we'll focus our remaining analysis just on these posts."
   ]
  },
  {
   "cell_type": "markdown",
   "metadata": {},
   "source": [
    "Next, we'll determine if ask posts created at a certain time are more likely to attract comments. We'll set up tasks to perform this analysis:\n",
    "\n",
    "__Task 1__: Calculate the number of ask posts created in each hour of the day, along with the number of comments received.\n",
    "\n",
    "__Task 2__: Calculate the average number of comments ask posts receive by hour created.\n"
   ]
  },
  {
   "cell_type": "code",
   "execution_count": 7,
   "metadata": {},
   "outputs": [],
   "source": [
    "#Importing datetime module to perform analysis\n",
    "import datetime as dt\n",
    "\n",
    "# Creating a place holder for our results\n",
    "result_list = []\n",
    "\n",
    "for row in ask_posts:\n",
    "    created_at = row[6]\n",
    "    num_comments = int(row[4])\n",
    "    result_list.append([created_at, num_comments])\n",
    "\n",
    "# Creating place holder for our hours and comments\n",
    "counts_by_hour = {}\n",
    "comments_by_hour = {}\n",
    "\n",
    "for row in result_list:\n",
    "    date = row[0]\n",
    "    comment_count = row[1]\n",
    "    \n",
    "# Extracting time from result list\n",
    "    date_dt = dt.datetime.strptime(date, \"%m/%d/%Y %H:%M\")\n",
    "    hour = date_dt.strftime(\"%H\")\n",
    "    \n",
    "# Updates counted hours and comments\n",
    "    if hour not in counts_by_hour:\n",
    "        counts_by_hour[hour] = 1\n",
    "        comments_by_hour[hour] = comment_count\n",
    "    else:\n",
    "        counts_by_hour[hour] += 1\n",
    "        comments_by_hour[hour] += comment_count\n",
    "    \n",
    "    \n",
    "\n",
    "    "
   ]
  },
  {
   "cell_type": "markdown",
   "metadata": {},
   "source": [
    "### 4. (Continued) Calculating the Average Number of Comments for Ask HN Posts by Hour"
   ]
  },
  {
   "cell_type": "markdown",
   "metadata": {},
   "source": [
    "Now that we've completed our first task which was to calculate the number of ask posts along with the comments, next we'll use these two dictionaries to calculate the average number of comments for posts created during each hour of the day."
   ]
  },
  {
   "cell_type": "code",
   "execution_count": 8,
   "metadata": {
    "scrolled": false
   },
   "outputs": [
    {
     "name": "stdout",
     "output_type": "stream",
     "text": [
      "[['09', 5.5777777777777775], ['13', 27.844444444444445], ['10', 17.622222222222224], ['14', 31.466666666666665], ['16', 40.31111111111111], ['23', 12.066666666666666], ['12', 15.266666666666667], ['17', 25.466666666666665], ['15', 99.4888888888889], ['21', 38.77777777777778], ['20', 38.266666666666666], ['02', 30.68888888888889], ['18', 31.977777777777778], ['03', 9.355555555555556], ['05', 10.311111111111112], ['19', 26.4], ['01', 15.177777777777777], ['22', 10.644444444444444], ['08', 10.933333333333334], ['04', 7.488888888888889], ['00', 9.933333333333334], ['06', 8.822222222222223], ['07', 5.933333333333334], ['11', 14.244444444444444]] \n",
      "\n"
     ]
    }
   ],
   "source": [
    "avg_by_hour = []\n",
    "\n",
    "# Performing operation to find avg comments by each hour\n",
    "for row in counts_by_hour:\n",
    "    avg_comments = comments_by_hour[row] / counts_by_hour[hour]\n",
    "    avg_by_hour.append([row, avg_comments])\n",
    "    \n",
    "print(avg_by_hour, '\\n')\n"
   ]
  },
  {
   "cell_type": "markdown",
   "metadata": {},
   "source": [
    "Here the results represent the average amount of comments that are left per each hour in the form of military time/24-hour clock. The calculation can assist our analysis in pattern recognition on what would be the best time of day to ask a question!"
   ]
  },
  {
   "cell_type": "markdown",
   "metadata": {},
   "source": [
    "## 5. Sorting and Printing Values from a List of Lists\n",
    "---"
   ]
  },
  {
   "cell_type": "markdown",
   "metadata": {},
   "source": [
    "Lastly, we need to re-format our findings and make readabilty better so we have a better time looking through our analysis."
   ]
  },
  {
   "cell_type": "markdown",
   "metadata": {},
   "source": [
    "### 5. (Continued) Swapping Columns"
   ]
  },
  {
   "cell_type": "markdown",
   "metadata": {},
   "source": [
    "First what we want to do first is to swap our indexs, meaning we want our averages first followed by the hour"
   ]
  },
  {
   "cell_type": "code",
   "execution_count": 9,
   "metadata": {},
   "outputs": [
    {
     "name": "stdout",
     "output_type": "stream",
     "text": [
      "[[5.5777777777777775, '09'], [27.844444444444445, '13'], [17.622222222222224, '10'], [31.466666666666665, '14'], [40.31111111111111, '16'], [12.066666666666666, '23'], [15.266666666666667, '12'], [25.466666666666665, '17'], [99.4888888888889, '15'], [38.77777777777778, '21'], [38.266666666666666, '20'], [30.68888888888889, '02'], [31.977777777777778, '18'], [9.355555555555556, '03'], [10.311111111111112, '05'], [26.4, '19'], [15.177777777777777, '01'], [10.644444444444444, '22'], [10.933333333333334, '08'], [7.488888888888889, '04'], [9.933333333333334, '00'], [8.822222222222223, '06'], [5.933333333333334, '07'], [14.244444444444444, '11']]\n"
     ]
    }
   ],
   "source": [
    "swap_avg_by_hour = []\n",
    "\n",
    "# Performing operations to swap index's of avg_by_hour\n",
    "for row in avg_by_hour:\n",
    "    hour = row[0]\n",
    "    avg_comments = row[1]\n",
    "    swap_avg_by_hour.append([avg_comments, hour])\n",
    "\n",
    "print(swap_avg_by_hour)"
   ]
  },
  {
   "cell_type": "markdown",
   "metadata": {},
   "source": [
    "### 5. (Continued) Sorting our new list"
   ]
  },
  {
   "cell_type": "markdown",
   "metadata": {},
   "source": [
    "Now, we want to sort our new swapped list in descending order so we use the sorted() function to handle this task."
   ]
  },
  {
   "cell_type": "code",
   "execution_count": 10,
   "metadata": {},
   "outputs": [
    {
     "name": "stdout",
     "output_type": "stream",
     "text": [
      "[[99.4888888888889, '15'], [40.31111111111111, '16'], [38.77777777777778, '21'], [38.266666666666666, '20'], [31.977777777777778, '18'], [31.466666666666665, '14'], [30.68888888888889, '02'], [27.844444444444445, '13'], [26.4, '19'], [25.466666666666665, '17'], [17.622222222222224, '10'], [15.266666666666667, '12'], [15.177777777777777, '01'], [14.244444444444444, '11'], [12.066666666666666, '23'], [10.933333333333334, '08'], [10.644444444444444, '22'], [10.311111111111112, '05'], [9.933333333333334, '00'], [9.355555555555556, '03'], [8.822222222222223, '06'], [7.488888888888889, '04'], [5.933333333333334, '07'], [5.5777777777777775, '09']]\n"
     ]
    }
   ],
   "source": [
    "sorted_swap = sorted(swap_avg_by_hour, reverse= True)\n",
    "\n",
    "print(sorted_swap)"
   ]
  },
  {
   "cell_type": "markdown",
   "metadata": {},
   "source": [
    "### 5. (Continued) Finding our Top Hours for Ask Posts"
   ]
  },
  {
   "cell_type": "markdown",
   "metadata": {},
   "source": [
    "Finally, we'll create a top five list for hours that provide the most comments"
   ]
  },
  {
   "cell_type": "code",
   "execution_count": 11,
   "metadata": {},
   "outputs": [
    {
     "name": "stdout",
     "output_type": "stream",
     "text": [
      "Top 5 Hours for Ask Posts Comments\n",
      "______________________________________\n",
      "15:00: 99.49 average comments per post\n",
      "16:00: 40.31 average comments per post\n",
      "21:00: 38.78 average comments per post\n",
      "20:00: 38.27 average comments per post\n",
      "18:00: 31.98 average comments per post\n"
     ]
    }
   ],
   "source": [
    "print('Top 5 Hours for Ask Posts Comments')\n",
    "print('______________________________________')\n",
    "\n",
    "for average, hour in sorted_swap[:5]:\n",
    "    format_time = dt.datetime.strptime(hour, '%H').strftime(\"%H:%M\")\n",
    "    print('{}: {:.2f} average comments per post'.format(format_time, average))"
   ]
  },
  {
   "cell_type": "markdown",
   "metadata": {},
   "source": [
    "# Conclusion\n",
    "* * *"
   ]
  },
  {
   "cell_type": "markdown",
   "metadata": {},
   "source": [
    "In the project, we conducted an analysis in interests from posts that have the beginning titles 'Ask HN' or 'Show HN'. From these interests our key point was to find correlation between the title posts and the comments.\n",
    "\n",
    "Within further analysis we found that titles with 'Ask HN' received a higher average of comments due to a possibilty of users wanting to answer questions.\n",
    "\n",
    "Furthermore, we decided to calculate the number of ask posts created along with the comments to find the average amount of comments made per hour. \n",
    "\n",
    "Lastly, we sorted our findings to visualize our findings easier, then created a Top 5 list that shows the best times to post based on the average comments received on that given hour. To conclude the analysis we can assume that the best times, ranges from 18:00 (6:00 pm) to 15:00(3:00 pm) being the best time. \n",
    "\n",
    "_One more thing to note, refering on the dataset we worked on the time is being based in Eastern Time. Conversion would need to be applied before hand._\n",
    "\n"
   ]
  },
  {
   "cell_type": "code",
   "execution_count": null,
   "metadata": {},
   "outputs": [],
   "source": []
  }
 ],
 "metadata": {
  "kernelspec": {
   "display_name": "Python 3 (ipykernel)",
   "language": "python",
   "name": "python3"
  },
  "language_info": {
   "codemirror_mode": {
    "name": "ipython",
    "version": 3
   },
   "file_extension": ".py",
   "mimetype": "text/x-python",
   "name": "python",
   "nbconvert_exporter": "python",
   "pygments_lexer": "ipython3",
   "version": "3.11.5"
  }
 },
 "nbformat": 4,
 "nbformat_minor": 2
}
