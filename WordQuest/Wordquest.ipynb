{
 "cells": [
  {
   "cell_type": "code",
   "execution_count": null,
   "metadata": {},
   "outputs": [],
   "source": [
    "## Title of game"
   ]
  },
  {
   "cell_type": "code",
   "execution_count": 4,
   "metadata": {},
   "outputs": [],
   "source": [
    "title = 'wordquest (anime edition)'"
   ]
  },
  {
   "cell_type": "code",
   "execution_count": null,
   "metadata": {},
   "outputs": [],
   "source": [
    "## Importing text file"
   ]
  },
  {
   "cell_type": "code",
   "execution_count": 39,
   "metadata": {},
   "outputs": [],
   "source": [
    "wordbank = []\n",
    "with open(\"words.txt\") as word_file:\n",
    "    for line in word_file:\n",
    "        wordbank.append(line.rstrip().lower())\n"
   ]
  },
  {
   "cell_type": "code",
   "execution_count": null,
   "metadata": {},
   "outputs": [],
   "source": [
    "# Importing random"
   ]
  },
  {
   "cell_type": "code",
   "execution_count": 40,
   "metadata": {},
   "outputs": [
    {
     "name": "stdout",
     "output_type": "stream",
     "text": [
      "denji\n"
     ]
    }
   ],
   "source": [
    "import random as r\n",
    "word_bank = r.choice(wordbank)\n",
    "print(word_bank)"
   ]
  },
  {
   "cell_type": "code",
   "execution_count": 41,
   "metadata": {},
   "outputs": [
    {
     "name": "stdin",
     "output_type": "stream",
     "text": [
      "What's your name? jason\n"
     ]
    },
    {
     "name": "stdout",
     "output_type": "stream",
     "text": [
      "Welcome jason to wordquest (anime edition)\n",
      "In this game, you are to guess an anime character's name with only 5 letters in them\n",
      "You have 5 turns left\n"
     ]
    },
    {
     "name": "stdin",
     "output_type": "stream",
     "text": [
      "Who's the anime character? luffy\n"
     ]
    },
    {
     "name": "stdout",
     "output_type": "stream",
     "text": [
      "_ _ _ _ _ \n",
      "\n",
      "Misplaced letters:  []\n",
      "Incorrect letters:  ['l', 'u', 'f', 'y']\n"
     ]
    },
    {
     "name": "stdin",
     "output_type": "stream",
     "text": [
      "Who's the anime character? deoji\n"
     ]
    },
    {
     "name": "stdout",
     "output_type": "stream",
     "text": [
      "d e _ j i \n",
      "\n",
      "Misplaced letters:  []\n",
      "Incorrect letters:  ['l', 'u', 'f', 'y', 'o']\n"
     ]
    },
    {
     "name": "stdin",
     "output_type": "stream",
     "text": [
      "Who's the anime character? denja\n"
     ]
    },
    {
     "name": "stdout",
     "output_type": "stream",
     "text": [
      "d e n j _ \n",
      "\n",
      "Misplaced letters:  []\n",
      "Incorrect letters:  ['l', 'u', 'f', 'y', 'o', 'a']\n"
     ]
    },
    {
     "name": "stdin",
     "output_type": "stream",
     "text": [
      "Who's the anime character? asdwr\n"
     ]
    },
    {
     "name": "stdout",
     "output_type": "stream",
     "text": [
      "_ _ _ _ _ \n",
      "\n",
      "Misplaced letters:  ['d']\n",
      "Incorrect letters:  ['l', 'u', 'f', 'y', 'o', 'a', 's', 'w', 'r']\n"
     ]
    },
    {
     "name": "stdin",
     "output_type": "stream",
     "text": [
      "Who's the anime character? oiety\n"
     ]
    },
    {
     "name": "stdout",
     "output_type": "stream",
     "text": [
      "_ _ _ _ _ \n",
      "\n",
      "Misplaced letters:  ['d', 'i', 'e']\n",
      "Incorrect letters:  ['l', 'u', 'f', 'y', 'o', 'a', 's', 'w', 'r', 't']\n",
      "I guess you lose. The word was denji\n"
     ]
    }
   ],
   "source": [
    "## Variables\n",
    "player_misplace = []\n",
    "incorrect_guesses = []\n",
    "max_turns = 5\n",
    "turns_taken = 0\n",
    "# User Input for name\n",
    "name = input('What\\'s your name?')\n",
    "print('Welcome', name,'to', title)\n",
    "print('In this game, you are to guess an anime character\\'s name with only 5 letters in them')\n",
    "turns_left = print('You have',max_turns - turns_taken, 'turns left')\n",
    "\n",
    "# Player has 5 guesses\n",
    "while turns_taken < max_turns:\n",
    "    player_index = 0\n",
    "    player_guess = input('Who\\'s the anime character?').lower()\n",
    "    \n",
    "# If player doesn't use 5 lettered word, or not alpha input, loop\n",
    "    if len(player_guess) != len(word_bank) or not player_guess.isalpha():\n",
    "        print('Please type a five-letter word.')\n",
    "        continue\n",
    "        \n",
    "# Game mechanics\n",
    "    for guess in player_guess:\n",
    "        if guess == word_bank[player_index]:\n",
    "            print(guess, end=' ')\n",
    "            if guess in player_misplace:\n",
    "                player_misplace.remove(guess)\n",
    "        elif guess in word_bank:\n",
    "            if guess not in player_misplace:\n",
    "                player_misplace.append(guess)\n",
    "            print('_', end=' ')\n",
    "        else:\n",
    "            if guess not in incorrect_guesses:\n",
    "                incorrect_guesses.append(guess)\n",
    "            print('_', end=' ')\n",
    "        player_index += 1\n",
    "\n",
    "    print('\\n')\n",
    "    print('Misplaced letters: ', player_misplace)\n",
    "    print('Incorrect letters: ', incorrect_guesses)\n",
    "    turns_taken += 1\n",
    "## If player guess, win\n",
    "    if player_guess == word_bank:\n",
    "        print('Nice one, space cowboy. You win!')\n",
    "        break\n",
    "\n",
    "## If player guess wrong, lose\n",
    "    if turns_taken == max_turns:\n",
    "        print('I guess you lose. The word was', word_bank)\n",
    "        break"
   ]
  }
 ],
 "metadata": {
  "kernelspec": {
   "display_name": "Python 3 (ipykernel)",
   "language": "python",
   "name": "python3"
  },
  "language_info": {
   "codemirror_mode": {
    "name": "ipython",
    "version": 3
   },
   "file_extension": ".py",
   "mimetype": "text/x-python",
   "name": "python",
   "nbconvert_exporter": "python",
   "pygments_lexer": "ipython3",
   "version": "3.10.6"
  }
 },
 "nbformat": 4,
 "nbformat_minor": 4
}
